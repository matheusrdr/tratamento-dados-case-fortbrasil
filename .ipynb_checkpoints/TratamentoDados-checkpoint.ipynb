{
 "cells": [
  {
   "cell_type": "code",
   "execution_count": 1,
   "id": "e21b4bed",
   "metadata": {},
   "outputs": [],
   "source": [
    "# Importando bibliotecas:\n",
    "import pandas as pd\n",
    "from datetime import datetime"
   ]
  },
  {
   "cell_type": "code",
   "execution_count": 2,
   "id": "7cb65568",
   "metadata": {},
   "outputs": [
    {
     "name": "stderr",
     "output_type": "stream",
     "text": [
      "C:\\Users\\Matheus\\anaconda3\\lib\\site-packages\\IPython\\core\\interactiveshell.py:3165: DtypeWarning: Columns (4) have mixed types.Specify dtype option on import or set low_memory=False.\n",
      "  has_raised = await self.run_ast_nodes(code_ast.body, cell_name,\n"
     ]
    }
   ],
   "source": [
    "# Importando datasets:\n",
    "df_canalDesbloqueio = pd.read_csv(\"C:/Users/Matheus/PowerBI/data/T_CANAL_DESBLOQUEIO.csv\", sep =';')\n",
    "df_cartao = pd.read_csv(\"C:/Users/Matheus/PowerBI/data/T_CARTAO.csv\", sep =';')\n",
    "df_compra = pd.read_csv(\"C:/Users/Matheus/PowerBI/data/T_COMPRA.csv\", sep = ';')"
   ]
  },
  {
   "cell_type": "code",
   "execution_count": 3,
   "id": "c426889a",
   "metadata": {},
   "outputs": [],
   "source": [
    "# df_modais = pd.read_excel(\"C:/Users/Matheus/PowerBI/data/T_MODAIS.xlsx\")\n",
    "# df_desbloqueio = pd.read_excel(\"C:/Users/Matheus/PowerBI/data/T_DESBLOQUEIO.xlsx\")"
   ]
  },
  {
   "cell_type": "code",
   "execution_count": 4,
   "id": "f5c6b474",
   "metadata": {},
   "outputs": [],
   "source": [
    "# Convertendo colunas de data para datetime:\n",
    "df_cartao['DT_GERACAO_EMBOSSING'] = pd.to_datetime(df_cartao['DT_GERACAO_EMBOSSING'])\n",
    "df_cartao['DT_VALIDADE'] = pd.to_datetime(df_cartao['DT_VALIDADE'])\n",
    "df_compra['DT_COMPRA'] = pd.to_datetime(df_compra['DT_COMPRA'])\n",
    "df_canalDesbloqueio['DT_DESBLOQUEIO'] = pd.to_datetime(df_canalDesbloqueio['DT_DESBLOQUEIO'])"
   ]
  },
  {
   "cell_type": "code",
   "execution_count": 5,
   "id": "5c4c0b2a",
   "metadata": {},
   "outputs": [],
   "source": [
    "# Formatando colunas de data dos dataframes para 'dd/mm/aa':\n",
    "df_cartao['DT_VALIDADE'] = df_cartao['DT_VALIDADE'].apply(lambda x: datetime.strftime(x,\"%m/%d/%Y\"))\n",
    "df_cartao['DT_GERACAO_EMBOSSING'] = df_cartao['DT_GERACAO_EMBOSSING'].apply(lambda x: datetime.strftime(x,\"%m/%d/%Y\"))\n",
    "df_compra['DT_COMPRA'] = df_compra['DT_COMPRA'].apply(lambda x: datetime.strftime(x,\"%m/%d/%Y\"))\n",
    "df_canalDesbloqueio['DT_DESBLOQUEIO'] = df_canalDesbloqueio['DT_DESBLOQUEIO'].apply(lambda x: datetime.strftime(x,\"%m/%d/%Y\"))"
   ]
  },
  {
   "cell_type": "code",
   "execution_count": 10,
   "id": "25253ffd",
   "metadata": {},
   "outputs": [
    {
     "data": {
      "text/plain": [
       "Central de Atendimento              606773\n",
       "Cartão desbloqueado com sucesso!     56640\n",
       "Name: DS_MENSAGEM, dtype: int64"
      ]
     },
     "execution_count": 10,
     "metadata": {},
     "output_type": "execute_result"
    }
   ],
   "source": [
    "# Preenchendo informação faltante no campo mensagem:\n",
    "df_canalDesbloqueio['DS_MENSAGEM'] = df_canalDesbloqueio['DS_MENSAGEM'].fillna(\"Central de Atendimento\")"
   ]
  },
  {
   "cell_type": "code",
   "execution_count": 20,
   "id": "f16a2712",
   "metadata": {},
   "outputs": [],
   "source": [
    "# Filtrando somente cartões válidos:\n",
    "df_cartao['VALIDO'] = df_cartao['DS_CARTAO'].apply(lambda x: x.startswith(\"9099\"))"
   ]
  },
  {
   "cell_type": "code",
   "execution_count": 22,
   "id": "38ef37ff",
   "metadata": {},
   "outputs": [
    {
     "data": {
      "text/plain": [
       "False    642163\n",
       "True     331071\n",
       "Name: VALIDO, dtype: int64"
      ]
     },
     "execution_count": 22,
     "metadata": {},
     "output_type": "execute_result"
    }
   ],
   "source": [
    "df_cartao['VALIDO'].value_counts()"
   ]
  },
  {
   "cell_type": "code",
   "execution_count": null,
   "id": "8ab0acee",
   "metadata": {},
   "outputs": [],
   "source": []
  }
 ],
 "metadata": {
  "kernelspec": {
   "display_name": "Python 3",
   "language": "python",
   "name": "python3"
  },
  "language_info": {
   "codemirror_mode": {
    "name": "ipython",
    "version": 3
   },
   "file_extension": ".py",
   "mimetype": "text/x-python",
   "name": "python",
   "nbconvert_exporter": "python",
   "pygments_lexer": "ipython3",
   "version": "3.8.8"
  }
 },
 "nbformat": 4,
 "nbformat_minor": 5
}
