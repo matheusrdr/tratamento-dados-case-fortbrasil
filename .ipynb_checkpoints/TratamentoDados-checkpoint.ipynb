{
 "cells": [
  {
   "cell_type": "markdown",
   "id": "14895093",
   "metadata": {},
   "source": [
    "## Script para tratar datasets enviados para resolução do case:\n",
    "#### O código irá tratar cada dataset separadamente e ao final de cada bloco de execução gerar o arquivo tratado."
   ]
  },
  {
   "cell_type": "code",
   "execution_count": 1,
   "id": "e21b4bed",
   "metadata": {},
   "outputs": [],
   "source": [
    "# Importando bibliotecas:\n",
    "import pandas as pd\n",
    "from datetime import datetime"
   ]
  },
  {
   "cell_type": "code",
   "execution_count": null,
   "id": "b0ebb3f1",
   "metadata": {},
   "outputs": [],
   "source": [
    "# Importando datasets:\n",
    "df_canal_desbloqueio = pd.read_csv(\"C:/Users/Matheus/PowerBI/data/T_CANAL_DESBLOQUEIO.csv\", sep =';')\n",
    "df_cartao = pd.read_csv(\"C:/Users/Matheus/PowerBI/data/T_CARTAO.csv\", sep =';')\n",
    "df_compra = pd.read_csv(\"C:/Users/Matheus/PowerBI/data/T_COMPRA.csv\", sep = ';')\n",
    "df_modais = pd.read_csv(\"C:/Users/Matheus/PowerBI/data/T_MODAIS.csv\", sep= ';')\n",
    "df_desbloqueio = pd.read_csv(\"C:/Users/Matheus/PowerBI/data/T_DESBLOQUEIO.csv\", sep= ';')"
   ]
  },
  {
   "cell_type": "code",
   "execution_count": 3,
   "id": "6d5eab77",
   "metadata": {},
   "outputs": [],
   "source": [
    "# Ajustando T_MODAIS:\n",
    "df_modais['DATA_ENVIO'] = pd.to_datetime(df_modais['DATA_ENVIO'], format=\"%d/%m/%Y\")\n",
    "df_modais = df_modais.sort_values(by=['DATA_ENVIO'], ascending=False)\n",
    "df_modais['ID_CONTA'] = df_modais['ID_CONTA'].apply(lambda x: str(x))\n",
    "df_modais['ULTIMOS_4_DIGITOS_CARTAO'] = df_modais['ULTIMOS_4_DIGITOS_CARTAO'].apply(lambda x: str(x).zfill(4))\n",
    "df_modais['KEY'] = df_modais['ID_CONTA'] + df_modais['ULTIMOS_4_DIGITOS_CARTAO']\n",
    "df_modais = df_modais.drop_duplicates(subset='KEY', keep=\"first\")\n",
    "df_modais['DATA_ENVIO'] = df_modais['DATA_ENVIO'].apply(lambda x: datetime.strftime(x,\"%d/%m/%Y\"))\n",
    "# Exportando tabela tratada:\n",
    "df_modais.to_csv('C:/Users/Matheus/PowerBI/data/T_MODAIS_TRATADO.csv', sep=',', index=False)"
   ]
  },
  {
   "cell_type": "code",
   "execution_count": 4,
   "id": "3e43acba",
   "metadata": {},
   "outputs": [],
   "source": [
    "# Ajustando T_DESBLOQUEIO:\n",
    "# Considerar apenas o primeiro desbloqueio de cada ID_CARTÃO:\n",
    "df_desbloqueio['DT_DESBLOQUEIO'] = pd.to_datetime(df_desbloqueio['DT_DESBLOQUEIO'], format=\"%d/%m/%Y\")\n",
    "df_desbloqueio = df_desbloqueio.sort_values(by=['DT_DESBLOQUEIO'], ascending=False)\n",
    "df_desbloqueio['DT_DESBLOQUEIO'] = df_desbloqueio['DT_DESBLOQUEIO'].apply(lambda x: datetime.strftime(x,\"%d/%m/%Y\"))\n",
    "df_desbloqueio = df_desbloqueio.drop_duplicates(subset='ID_CARTAO', keep=\"first\")\n",
    "# Exportando tabela tratada:\n",
    "df_desbloqueio.to_csv('C:/Users/Matheus/PowerBI/data/T_DESBLOQUEIO_TRATADO.csv', sep=',', index=False)"
   ]
  },
  {
   "cell_type": "code",
   "execution_count": 3,
   "id": "c852b67c",
   "metadata": {},
   "outputs": [],
   "source": [
    "# Ajustando T_CARTAO:\n",
    "# Considerar apenas cartões válidos:\n",
    "\n",
    "# Convertendo colunas de data para datetime:\n",
    "df_cartao['DT_GERACAO_EMBOSSING'] = pd.to_datetime(df_cartao['DT_GERACAO_EMBOSSING'])\n",
    "df_cartao['DT_VALIDADE'] = pd.to_datetime(df_cartao['DT_VALIDADE'])\n",
    "\n",
    "# Filrando somente cartões emitidos em 2020:\n",
    "df_cartao = df_cartao.loc[(df_cartao['DT_GERACAO_EMBOSSING']).dt.year == 2020]\n",
    "\n",
    "# # Formatando colunas de data dos dataframes para 'dd/mm/aa':\n",
    "df_cartao['DT_VALIDADE'] = df_cartao['DT_VALIDADE'].apply(lambda x: datetime.strftime(x,\"%d/%m/%Y\"))\n",
    "df_cartao['DT_GERACAO_EMBOSSING'] = df_cartao['DT_GERACAO_EMBOSSING'].apply(lambda x: datetime.strftime(x,\"%d/%m/%Y\"))\n",
    "\n",
    "# # # Function para calcular diferencas entre as datas:\n",
    "def dif_data(d1, d2):\n",
    "    d1 = datetime.strptime(d1, \"%d/%m/%Y\")\n",
    "    d2 = datetime.strptime(d2, \"%d/%m/%Y\")\n",
    "    return (d2 - d1).days\n",
    "\n",
    "# # # # Criando colunas para saber se cartão é valido e quantidade de dias de validade:\n",
    "df_cartao['VALIDO'] = df_cartao['DS_CARTAO'].apply(lambda x: x.startswith(\"9099\"))\n",
    "df_cartao['VALIDADE'] = df_cartao['DT_VALIDADE'].apply(lambda x: dif_data('16/09/2021', x))\n",
    "\n",
    "# # # # Criando novo df apenas com cartões válidos:\n",
    "df_cartao = df_cartao.loc[(df_cartao['VALIDO'] == False) & (df_cartao['VALIDADE'] > 30)]\n",
    "\n",
    "# # # # Criando chave e eliminando valores duplicados:\n",
    "df_cartao['ID_CONTA'] = df_cartao['ID_CONTA'].apply(lambda x: str(x))\n",
    "df_cartao['ULTIMOS_4_DIGITOS_CARTAO'] = df_cartao['DS_CARTAO'].apply(lambda x: x[-4:])\n",
    "df_cartao['KEY'] = df_cartao['ID_CONTA'] + df_cartao['ULTIMOS_4_DIGITOS_CARTAO']\n",
    "df_cartao = df_cartao.drop_duplicates(subset='KEY')\n",
    "\n",
    "# # Exportando tabela tratada:\n",
    "df_cartao.to_csv('C:/Users/Matheus/PowerBI/data/T_CARTAO_TRATADO.csv', sep=',', index=False)"
   ]
  },
  {
   "cell_type": "code",
   "execution_count": 5,
   "id": "321b01f9",
   "metadata": {},
   "outputs": [],
   "source": [
    "# # Ajustando T_COMPRA:\n",
    "# Filtrar somente Primeira Compra == Processada:\n",
    "df_compra = df_compra.loc[df_compra['DS_STATUS'] == 'Processada']\n",
    "df_compra['DT_COMPRA'] = pd.to_datetime(df_compra['DT_COMPRA'])\n",
    "df_compra = df_compra.sort_values(by=['DT_COMPRA'], ascending=False)\n",
    "df_compra['DT_COMPRA'] = df_compra['DT_COMPRA'].apply(lambda x: datetime.strftime(x,\"%d/%m/%Y\"))\n",
    "df_compra = df_compra.drop_duplicates(subset='ID_CARTAO', keep=\"first\")\n",
    "# Exportando tabela tratada:\n",
    "df_compra.to_csv('C:/Users/Matheus/PowerBI/data/T_COMPRA_TRATADO.csv', sep=',', index=False)"
   ]
  },
  {
   "cell_type": "code",
   "execution_count": 1,
   "id": "8af6544e",
   "metadata": {},
   "outputs": [],
   "source": [
    "# Ajustando T_CANAL_DESBLOQUEIO:\n",
    "# # Preenchendo informação faltante no campo mensagem e eliminando valores duplicados:\n",
    "df_canal_desbloqueio['DS_MENSAGEM'] = df_canal_desbloqueio['DS_MENSAGEM'].fillna(\"Central de Atendimento\")\n",
    "df_canal_desbloqueio['DT_DESBLOQUEIO'] = pd.to_datetime(df_canal_desbloqueio['DT_DESBLOQUEIO'])\n",
    "df_canal_desbloqueio = df_canal_desbloqueio.sort_values(by=['DT_DESBLOQUEIO'], ascending=False)\n",
    "df_canal_desbloqueio['DT_DESBLOQUEIO'] = df_canal_desbloqueio['DT_DESBLOQUEIO'].apply(lambda x: datetime.strftime(x,\"%d/%m/%Y\"))\n",
    "df_canal_desbloqueio = df_canal_desbloqueio.drop_duplicates(subset='ID_CARTAO', keep=\"first\")\n",
    "# # Exportando tabela tratada:\n",
    "df_canal_desbloqueio.to_csv('C:/Users/Matheus/PowerBI/data/T_CANAL_DESBLOQUEIO_TRATADO.csv', sep=',', index=False)"
   ]
  },
  {
   "cell_type": "code",
   "execution_count": null,
   "id": "43f7bc6b",
   "metadata": {},
   "outputs": [],
   "source": []
  }
 ],
 "metadata": {
  "kernelspec": {
   "display_name": "Python 3",
   "language": "python",
   "name": "python3"
  },
  "language_info": {
   "codemirror_mode": {
    "name": "ipython",
    "version": 3
   },
   "file_extension": ".py",
   "mimetype": "text/x-python",
   "name": "python",
   "nbconvert_exporter": "python",
   "pygments_lexer": "ipython3",
   "version": "3.8.8"
  }
 },
 "nbformat": 4,
 "nbformat_minor": 5
}
