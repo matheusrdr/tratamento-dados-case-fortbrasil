{
 "cells": [
  {
   "cell_type": "code",
   "execution_count": 1,
   "id": "e21b4bed",
   "metadata": {},
   "outputs": [],
   "source": [
    "# Importando bibliotecas:\n",
    "import pandas as pd\n",
    "from datetime import datetime"
   ]
  },
  {
   "cell_type": "code",
   "execution_count": 2,
   "id": "7cb65568",
   "metadata": {},
   "outputs": [
    {
     "name": "stderr",
     "output_type": "stream",
     "text": [
      "C:\\Users\\Matheus\\anaconda3\\lib\\site-packages\\IPython\\core\\interactiveshell.py:3165: DtypeWarning: Columns (4) have mixed types.Specify dtype option on import or set low_memory=False.\n",
      "  has_raised = await self.run_ast_nodes(code_ast.body, cell_name,\n"
     ]
    }
   ],
   "source": [
    "# Importando datasets:\n",
    "df_canalDesbloqueio = pd.read_csv(\"C:/Users/Matheus/PowerBI/data/T_CANAL_DESBLOQUEIO.csv\", sep =';')\n",
    "df_cartao = pd.read_csv(\"C:/Users/Matheus/PowerBI/data/T_CARTAO.csv\", sep =';')\n",
    "df_compra = pd.read_csv(\"C:/Users/Matheus/PowerBI/data/T_COMPRA.csv\", sep = ';')"
   ]
  },
  {
   "cell_type": "code",
   "execution_count": 40,
   "id": "c426889a",
   "metadata": {},
   "outputs": [],
   "source": [
    "df_modais = pd.read_excel(\"C:/Users/Matheus/PowerBI/data/T_MODAIS.xlsx\")\n",
    "df_desbloqueio = pd.read_excel(\"C:/Users/Matheus/PowerBI/data/T_DESBLOQUEIO.xlsx\")"
   ]
  },
  {
   "cell_type": "code",
   "execution_count": 4,
   "id": "f5c6b474",
   "metadata": {},
   "outputs": [],
   "source": [
    "# Convertendo colunas de data para datetime:\n",
    "df_cartao['DT_GERACAO_EMBOSSING'] = pd.to_datetime(df_cartao['DT_GERACAO_EMBOSSING'])\n",
    "df_cartao['DT_VALIDADE'] = pd.to_datetime(df_cartao['DT_VALIDADE'])\n",
    "df_compra['DT_COMPRA'] = pd.to_datetime(df_compra['DT_COMPRA'])\n",
    "df_canalDesbloqueio['DT_DESBLOQUEIO'] = pd.to_datetime(df_canalDesbloqueio['DT_DESBLOQUEIO'])"
   ]
  },
  {
   "cell_type": "code",
   "execution_count": 5,
   "id": "5c4c0b2a",
   "metadata": {},
   "outputs": [],
   "source": [
    "# Formatando colunas de data dos dataframes para 'dd/mm/aa':\n",
    "df_cartao['DT_VALIDADE'] = df_cartao['DT_VALIDADE'].apply(lambda x: datetime.strftime(x,\"%d/%m/%Y\"))\n",
    "df_cartao['DT_GERACAO_EMBOSSING'] = df_cartao['DT_GERACAO_EMBOSSING'].apply(lambda x: datetime.strftime(x,\"%d/%m/%Y\"))\n",
    "df_compra['DT_COMPRA'] = df_compra['DT_COMPRA'].apply(lambda x: datetime.strftime(x,\"%d/%m/%Y\"))\n",
    "df_canalDesbloqueio['DT_DESBLOQUEIO'] = df_canalDesbloqueio['DT_DESBLOQUEIO'].apply(lambda x: datetime.strftime(x,\"%d/%m/%Y\"))\n",
    "# df_desbloqueio['DT_DESBLOQUEIO'] = df_desbloqueio['DT_DESBLOQUEIO'].apply(lambda x: datetime.strftime(x,\"%d/%m/%Y\"))"
   ]
  },
  {
   "cell_type": "code",
   "execution_count": 6,
   "id": "25253ffd",
   "metadata": {},
   "outputs": [],
   "source": [
    "# Preenchendo informação faltante no campo mensagem:\n",
    "df_canalDesbloqueio['DS_MENSAGEM'] = df_canalDesbloqueio['DS_MENSAGEM'].fillna(\"Central de Atendimento\")"
   ]
  },
  {
   "cell_type": "code",
   "execution_count": 27,
   "id": "f16a2712",
   "metadata": {},
   "outputs": [
    {
     "ename": "TypeError",
     "evalue": "bad operand type for unary ~: 'str'",
     "output_type": "error",
     "traceback": [
      "\u001b[1;31m---------------------------------------------------------------------------\u001b[0m",
      "\u001b[1;31mTypeError\u001b[0m                                 Traceback (most recent call last)",
      "\u001b[1;32m<ipython-input-27-a5a6e2114cf7>\u001b[0m in \u001b[0;36m<module>\u001b[1;34m\u001b[0m\n\u001b[0;32m      1\u001b[0m \u001b[1;31m# Filtrando somente cartões válidos:\u001b[0m\u001b[1;33m\u001b[0m\u001b[1;33m\u001b[0m\u001b[1;33m\u001b[0m\u001b[0m\n\u001b[1;32m----> 2\u001b[1;33m \u001b[0mdf_cartao\u001b[0m\u001b[1;33m[\u001b[0m\u001b[1;34m'VALIDO'\u001b[0m\u001b[1;33m]\u001b[0m \u001b[1;33m=\u001b[0m \u001b[0mdf_cartao\u001b[0m\u001b[1;33m[\u001b[0m\u001b[1;34m'DS_CARTAO'\u001b[0m\u001b[1;33m]\u001b[0m\u001b[1;33m.\u001b[0m\u001b[0mapply\u001b[0m\u001b[1;33m(\u001b[0m\u001b[1;32mlambda\u001b[0m \u001b[0mx\u001b[0m\u001b[1;33m:\u001b[0m \u001b[0mx\u001b[0m\u001b[1;33m.\u001b[0m\u001b[0mstartswith\u001b[0m\u001b[1;33m(\u001b[0m\u001b[1;33m~\u001b[0m\u001b[1;34m\"9099\"\u001b[0m\u001b[1;33m)\u001b[0m\u001b[1;33m)\u001b[0m\u001b[1;33m\u001b[0m\u001b[1;33m\u001b[0m\u001b[0m\n\u001b[0m",
      "\u001b[1;32m~\\anaconda3\\lib\\site-packages\\pandas\\core\\series.py\u001b[0m in \u001b[0;36mapply\u001b[1;34m(self, func, convert_dtype, args, **kwds)\u001b[0m\n\u001b[0;32m   4136\u001b[0m             \u001b[1;32melse\u001b[0m\u001b[1;33m:\u001b[0m\u001b[1;33m\u001b[0m\u001b[1;33m\u001b[0m\u001b[0m\n\u001b[0;32m   4137\u001b[0m                 \u001b[0mvalues\u001b[0m \u001b[1;33m=\u001b[0m \u001b[0mself\u001b[0m\u001b[1;33m.\u001b[0m\u001b[0mastype\u001b[0m\u001b[1;33m(\u001b[0m\u001b[0mobject\u001b[0m\u001b[1;33m)\u001b[0m\u001b[1;33m.\u001b[0m\u001b[0m_values\u001b[0m\u001b[1;33m\u001b[0m\u001b[1;33m\u001b[0m\u001b[0m\n\u001b[1;32m-> 4138\u001b[1;33m                 \u001b[0mmapped\u001b[0m \u001b[1;33m=\u001b[0m \u001b[0mlib\u001b[0m\u001b[1;33m.\u001b[0m\u001b[0mmap_infer\u001b[0m\u001b[1;33m(\u001b[0m\u001b[0mvalues\u001b[0m\u001b[1;33m,\u001b[0m \u001b[0mf\u001b[0m\u001b[1;33m,\u001b[0m \u001b[0mconvert\u001b[0m\u001b[1;33m=\u001b[0m\u001b[0mconvert_dtype\u001b[0m\u001b[1;33m)\u001b[0m\u001b[1;33m\u001b[0m\u001b[1;33m\u001b[0m\u001b[0m\n\u001b[0m\u001b[0;32m   4139\u001b[0m \u001b[1;33m\u001b[0m\u001b[0m\n\u001b[0;32m   4140\u001b[0m         \u001b[1;32mif\u001b[0m \u001b[0mlen\u001b[0m\u001b[1;33m(\u001b[0m\u001b[0mmapped\u001b[0m\u001b[1;33m)\u001b[0m \u001b[1;32mand\u001b[0m \u001b[0misinstance\u001b[0m\u001b[1;33m(\u001b[0m\u001b[0mmapped\u001b[0m\u001b[1;33m[\u001b[0m\u001b[1;36m0\u001b[0m\u001b[1;33m]\u001b[0m\u001b[1;33m,\u001b[0m \u001b[0mSeries\u001b[0m\u001b[1;33m)\u001b[0m\u001b[1;33m:\u001b[0m\u001b[1;33m\u001b[0m\u001b[1;33m\u001b[0m\u001b[0m\n",
      "\u001b[1;32mpandas\\_libs\\lib.pyx\u001b[0m in \u001b[0;36mpandas._libs.lib.map_infer\u001b[1;34m()\u001b[0m\n",
      "\u001b[1;32m<ipython-input-27-a5a6e2114cf7>\u001b[0m in \u001b[0;36m<lambda>\u001b[1;34m(x)\u001b[0m\n\u001b[0;32m      1\u001b[0m \u001b[1;31m# Filtrando somente cartões válidos:\u001b[0m\u001b[1;33m\u001b[0m\u001b[1;33m\u001b[0m\u001b[1;33m\u001b[0m\u001b[0m\n\u001b[1;32m----> 2\u001b[1;33m \u001b[0mdf_cartao\u001b[0m\u001b[1;33m[\u001b[0m\u001b[1;34m'VALIDO'\u001b[0m\u001b[1;33m]\u001b[0m \u001b[1;33m=\u001b[0m \u001b[0mdf_cartao\u001b[0m\u001b[1;33m[\u001b[0m\u001b[1;34m'DS_CARTAO'\u001b[0m\u001b[1;33m]\u001b[0m\u001b[1;33m.\u001b[0m\u001b[0mapply\u001b[0m\u001b[1;33m(\u001b[0m\u001b[1;32mlambda\u001b[0m \u001b[0mx\u001b[0m\u001b[1;33m:\u001b[0m \u001b[0mx\u001b[0m\u001b[1;33m.\u001b[0m\u001b[0mstartswith\u001b[0m\u001b[1;33m(\u001b[0m\u001b[1;33m~\u001b[0m\u001b[1;34m\"9099\"\u001b[0m\u001b[1;33m)\u001b[0m\u001b[1;33m)\u001b[0m\u001b[1;33m\u001b[0m\u001b[1;33m\u001b[0m\u001b[0m\n\u001b[0m",
      "\u001b[1;31mTypeError\u001b[0m: bad operand type for unary ~: 'str'"
     ]
    }
   ],
   "source": [
    "## Filtrando somente cartões válidos:\n",
    "\n",
    "# Function para calcular diferencas entre das datas:\n",
    "def dif_data(d1, d2):\n",
    "    d1 = datetime.strptime(d1, \"%d/%m/%Y\")\n",
    "    d2 = datetime.strptime(d2, \"%d/%m/%Y\")\n",
    "    return (d2 - d1).days\n",
    "\n",
    "# Criando colunas para saber se cartão é valido e quantidade de dias de validade:\n",
    "df_cartao['VALIDO'] = df_cartao['DS_CARTAO'].apply(lambda x: x.startswith(\"9099\"))\n",
    "df_cartao['VALIDADE'] = df_cartao['DT_VALIDADE'].apply(lambda x: dif_data('16/09/2021', x))"
   ]
  },
  {
   "cell_type": "code",
   "execution_count": 39,
   "id": "e73f71e1",
   "metadata": {},
   "outputs": [
    {
     "data": {
      "text/plain": [
       "1198"
      ]
     },
     "execution_count": 39,
     "metadata": {},
     "output_type": "execute_result"
    }
   ],
   "source": [
    "df_teste = df_cartao.loc[(df_cartao['VALIDO'] == False) & (df_cartao['VALIDADE'] > 30)]"
   ]
  },
  {
   "cell_type": "code",
   "execution_count": 45,
   "id": "eac86afe",
   "metadata": {},
   "outputs": [
    {
     "ename": "TypeError",
     "evalue": "descriptor 'strftime' for 'datetime.date' objects doesn't apply to a 'str' object",
     "output_type": "error",
     "traceback": [
      "\u001b[1;31m---------------------------------------------------------------------------\u001b[0m",
      "\u001b[1;31mTypeError\u001b[0m                                 Traceback (most recent call last)",
      "\u001b[1;32m<ipython-input-45-de723da656a2>\u001b[0m in \u001b[0;36m<module>\u001b[1;34m\u001b[0m\n\u001b[1;32m----> 1\u001b[1;33m \u001b[0mdf_desbloqueio\u001b[0m\u001b[1;33m[\u001b[0m\u001b[1;34m'DT_DESBLOQUEIO'\u001b[0m\u001b[1;33m]\u001b[0m \u001b[1;33m=\u001b[0m \u001b[0mdf_desbloqueio\u001b[0m\u001b[1;33m[\u001b[0m\u001b[1;34m'DT_DESBLOQUEIO'\u001b[0m\u001b[1;33m]\u001b[0m\u001b[1;33m.\u001b[0m\u001b[0mapply\u001b[0m\u001b[1;33m(\u001b[0m\u001b[1;32mlambda\u001b[0m \u001b[0mx\u001b[0m\u001b[1;33m:\u001b[0m \u001b[0mdatetime\u001b[0m\u001b[1;33m.\u001b[0m\u001b[0mstrftime\u001b[0m\u001b[1;33m(\u001b[0m\u001b[0mx\u001b[0m\u001b[1;33m,\u001b[0m\u001b[1;34m\"%d/%m/%Y\"\u001b[0m\u001b[1;33m)\u001b[0m\u001b[1;33m)\u001b[0m\u001b[1;33m\u001b[0m\u001b[1;33m\u001b[0m\u001b[0m\n\u001b[0m\u001b[0;32m      2\u001b[0m \u001b[0mdf_desbloqueio\u001b[0m\u001b[1;33m.\u001b[0m\u001b[0mhead\u001b[0m\u001b[1;33m(\u001b[0m\u001b[1;36m5\u001b[0m\u001b[1;33m)\u001b[0m\u001b[1;33m\u001b[0m\u001b[1;33m\u001b[0m\u001b[0m\n",
      "\u001b[1;32m~\\anaconda3\\lib\\site-packages\\pandas\\core\\series.py\u001b[0m in \u001b[0;36mapply\u001b[1;34m(self, func, convert_dtype, args, **kwds)\u001b[0m\n\u001b[0;32m   4136\u001b[0m             \u001b[1;32melse\u001b[0m\u001b[1;33m:\u001b[0m\u001b[1;33m\u001b[0m\u001b[1;33m\u001b[0m\u001b[0m\n\u001b[0;32m   4137\u001b[0m                 \u001b[0mvalues\u001b[0m \u001b[1;33m=\u001b[0m \u001b[0mself\u001b[0m\u001b[1;33m.\u001b[0m\u001b[0mastype\u001b[0m\u001b[1;33m(\u001b[0m\u001b[0mobject\u001b[0m\u001b[1;33m)\u001b[0m\u001b[1;33m.\u001b[0m\u001b[0m_values\u001b[0m\u001b[1;33m\u001b[0m\u001b[1;33m\u001b[0m\u001b[0m\n\u001b[1;32m-> 4138\u001b[1;33m                 \u001b[0mmapped\u001b[0m \u001b[1;33m=\u001b[0m \u001b[0mlib\u001b[0m\u001b[1;33m.\u001b[0m\u001b[0mmap_infer\u001b[0m\u001b[1;33m(\u001b[0m\u001b[0mvalues\u001b[0m\u001b[1;33m,\u001b[0m \u001b[0mf\u001b[0m\u001b[1;33m,\u001b[0m \u001b[0mconvert\u001b[0m\u001b[1;33m=\u001b[0m\u001b[0mconvert_dtype\u001b[0m\u001b[1;33m)\u001b[0m\u001b[1;33m\u001b[0m\u001b[1;33m\u001b[0m\u001b[0m\n\u001b[0m\u001b[0;32m   4139\u001b[0m \u001b[1;33m\u001b[0m\u001b[0m\n\u001b[0;32m   4140\u001b[0m         \u001b[1;32mif\u001b[0m \u001b[0mlen\u001b[0m\u001b[1;33m(\u001b[0m\u001b[0mmapped\u001b[0m\u001b[1;33m)\u001b[0m \u001b[1;32mand\u001b[0m \u001b[0misinstance\u001b[0m\u001b[1;33m(\u001b[0m\u001b[0mmapped\u001b[0m\u001b[1;33m[\u001b[0m\u001b[1;36m0\u001b[0m\u001b[1;33m]\u001b[0m\u001b[1;33m,\u001b[0m \u001b[0mSeries\u001b[0m\u001b[1;33m)\u001b[0m\u001b[1;33m:\u001b[0m\u001b[1;33m\u001b[0m\u001b[1;33m\u001b[0m\u001b[0m\n",
      "\u001b[1;32mpandas\\_libs\\lib.pyx\u001b[0m in \u001b[0;36mpandas._libs.lib.map_infer\u001b[1;34m()\u001b[0m\n",
      "\u001b[1;32m<ipython-input-45-de723da656a2>\u001b[0m in \u001b[0;36m<lambda>\u001b[1;34m(x)\u001b[0m\n\u001b[1;32m----> 1\u001b[1;33m \u001b[0mdf_desbloqueio\u001b[0m\u001b[1;33m[\u001b[0m\u001b[1;34m'DT_DESBLOQUEIO'\u001b[0m\u001b[1;33m]\u001b[0m \u001b[1;33m=\u001b[0m \u001b[0mdf_desbloqueio\u001b[0m\u001b[1;33m[\u001b[0m\u001b[1;34m'DT_DESBLOQUEIO'\u001b[0m\u001b[1;33m]\u001b[0m\u001b[1;33m.\u001b[0m\u001b[0mapply\u001b[0m\u001b[1;33m(\u001b[0m\u001b[1;32mlambda\u001b[0m \u001b[0mx\u001b[0m\u001b[1;33m:\u001b[0m \u001b[0mdatetime\u001b[0m\u001b[1;33m.\u001b[0m\u001b[0mstrftime\u001b[0m\u001b[1;33m(\u001b[0m\u001b[0mx\u001b[0m\u001b[1;33m,\u001b[0m\u001b[1;34m\"%d/%m/%Y\"\u001b[0m\u001b[1;33m)\u001b[0m\u001b[1;33m)\u001b[0m\u001b[1;33m\u001b[0m\u001b[1;33m\u001b[0m\u001b[0m\n\u001b[0m\u001b[0;32m      2\u001b[0m \u001b[0mdf_desbloqueio\u001b[0m\u001b[1;33m.\u001b[0m\u001b[0mhead\u001b[0m\u001b[1;33m(\u001b[0m\u001b[1;36m5\u001b[0m\u001b[1;33m)\u001b[0m\u001b[1;33m\u001b[0m\u001b[1;33m\u001b[0m\u001b[0m\n",
      "\u001b[1;31mTypeError\u001b[0m: descriptor 'strftime' for 'datetime.date' objects doesn't apply to a 'str' object"
     ]
    }
   ],
   "source": [
    "df_desbloqueio['DT_DESBLOQUEIO'] = df_desbloqueio['DT_DESBLOQUEIO'].apply(lambda x: datetime.strftime(x,\"%d/%m/%Y\")).sort()\n",
    "df_desbloqueio.head(5)"
   ]
  },
  {
   "cell_type": "code",
   "execution_count": 55,
   "id": "f33bc62a",
   "metadata": {},
   "outputs": [
    {
     "data": {
      "text/html": [
       "<div>\n",
       "<style scoped>\n",
       "    .dataframe tbody tr th:only-of-type {\n",
       "        vertical-align: middle;\n",
       "    }\n",
       "\n",
       "    .dataframe tbody tr th {\n",
       "        vertical-align: top;\n",
       "    }\n",
       "\n",
       "    .dataframe thead th {\n",
       "        text-align: right;\n",
       "    }\n",
       "</style>\n",
       "<table border=\"1\" class=\"dataframe\">\n",
       "  <thead>\n",
       "    <tr style=\"text-align: right;\">\n",
       "      <th></th>\n",
       "      <th>ID_CONTA</th>\n",
       "      <th>ULTIMOS_4_DIGITOS_CARTAO</th>\n",
       "      <th>DATA_ENVIO</th>\n",
       "      <th>MODAL</th>\n",
       "    </tr>\n",
       "  </thead>\n",
       "  <tbody>\n",
       "    <tr>\n",
       "      <th>166437</th>\n",
       "      <td>8985102</td>\n",
       "      <td>9217</td>\n",
       "      <td>08/05/2020</td>\n",
       "      <td>Correios PL</td>\n",
       "    </tr>\n",
       "    <tr>\n",
       "      <th>229211</th>\n",
       "      <td>8985102</td>\n",
       "      <td>9217</td>\n",
       "      <td>08/05/2020</td>\n",
       "      <td>Correios PL</td>\n",
       "    </tr>\n",
       "    <tr>\n",
       "      <th>513232</th>\n",
       "      <td>2095787</td>\n",
       "      <td>76</td>\n",
       "      <td>31/12/2020</td>\n",
       "      <td>Embossing Loja</td>\n",
       "    </tr>\n",
       "    <tr>\n",
       "      <th>513231</th>\n",
       "      <td>2095778</td>\n",
       "      <td>5141</td>\n",
       "      <td>31/12/2020</td>\n",
       "      <td>Embossing Loja</td>\n",
       "    </tr>\n",
       "    <tr>\n",
       "      <th>513378</th>\n",
       "      <td>2095774</td>\n",
       "      <td>50</td>\n",
       "      <td>31/12/2020</td>\n",
       "      <td>Embossing Loja</td>\n",
       "    </tr>\n",
       "    <tr>\n",
       "      <th>...</th>\n",
       "      <td>...</td>\n",
       "      <td>...</td>\n",
       "      <td>...</td>\n",
       "      <td>...</td>\n",
       "    </tr>\n",
       "    <tr>\n",
       "      <th>409087</th>\n",
       "      <td>33800</td>\n",
       "      <td>2373</td>\n",
       "      <td>15/10/2020</td>\n",
       "      <td>Courrier Master</td>\n",
       "    </tr>\n",
       "    <tr>\n",
       "      <th>263233</th>\n",
       "      <td>32015</td>\n",
       "      <td>9130</td>\n",
       "      <td>30/07/2020</td>\n",
       "      <td>Correios PL</td>\n",
       "    </tr>\n",
       "    <tr>\n",
       "      <th>158428</th>\n",
       "      <td>29755</td>\n",
       "      <td>1238</td>\n",
       "      <td>17/04/2020</td>\n",
       "      <td>Courrier Master</td>\n",
       "    </tr>\n",
       "    <tr>\n",
       "      <th>253213</th>\n",
       "      <td>17403</td>\n",
       "      <td>5144</td>\n",
       "      <td>25/05/2020</td>\n",
       "      <td>Courrier Master</td>\n",
       "    </tr>\n",
       "    <tr>\n",
       "      <th>208126</th>\n",
       "      <td>17403</td>\n",
       "      <td>9836</td>\n",
       "      <td>09/06/2020</td>\n",
       "      <td>Courrier Master</td>\n",
       "    </tr>\n",
       "  </tbody>\n",
       "</table>\n",
       "<p>558699 rows × 4 columns</p>\n",
       "</div>"
      ],
      "text/plain": [
       "        ID_CONTA  ULTIMOS_4_DIGITOS_CARTAO  DATA_ENVIO            MODAL\n",
       "166437   8985102                      9217  08/05/2020      Correios PL\n",
       "229211   8985102                      9217  08/05/2020      Correios PL\n",
       "513232   2095787                        76  31/12/2020   Embossing Loja\n",
       "513231   2095778                      5141  31/12/2020   Embossing Loja\n",
       "513378   2095774                        50  31/12/2020   Embossing Loja\n",
       "...          ...                       ...         ...              ...\n",
       "409087     33800                      2373  15/10/2020  Courrier Master\n",
       "263233     32015                      9130  30/07/2020      Correios PL\n",
       "158428     29755                      1238  17/04/2020  Courrier Master\n",
       "253213     17403                      5144  25/05/2020  Courrier Master\n",
       "208126     17403                      9836  09/06/2020  Courrier Master\n",
       "\n",
       "[558699 rows x 4 columns]"
      ]
     },
     "execution_count": 55,
     "metadata": {},
     "output_type": "execute_result"
    }
   ],
   "source": [
    "#df_modais['DATA_ENVIO'] = df_modais['DATA_ENVIO'].apply(lambda x: datetime.strftime(x,\"%d/%m/%Y\"))\n",
    "df_modais.sort_values(by=['ID_CONTA','DATA_ENVIO'], ascending=False)"
   ]
  },
  {
   "cell_type": "code",
   "execution_count": null,
   "id": "b9f2e1fc",
   "metadata": {},
   "outputs": [],
   "source": []
  }
 ],
 "metadata": {
  "kernelspec": {
   "display_name": "Python 3",
   "language": "python",
   "name": "python3"
  },
  "language_info": {
   "codemirror_mode": {
    "name": "ipython",
    "version": 3
   },
   "file_extension": ".py",
   "mimetype": "text/x-python",
   "name": "python",
   "nbconvert_exporter": "python",
   "pygments_lexer": "ipython3",
   "version": "3.8.8"
  }
 },
 "nbformat": 4,
 "nbformat_minor": 5
}
