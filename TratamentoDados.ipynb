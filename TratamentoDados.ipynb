{
 "cells": [
  {
   "cell_type": "code",
   "execution_count": 1,
   "id": "e21b4bed",
   "metadata": {},
   "outputs": [],
   "source": [
    "# importando bibliotecas:\n",
    "import pandas as pd"
   ]
  },
  {
   "cell_type": "code",
   "execution_count": 2,
   "id": "7cb65568",
   "metadata": {},
   "outputs": [
    {
     "name": "stderr",
     "output_type": "stream",
     "text": [
      "C:\\Users\\Matheus\\anaconda3\\lib\\site-packages\\IPython\\core\\interactiveshell.py:3165: DtypeWarning: Columns (4) have mixed types.Specify dtype option on import or set low_memory=False.\n",
      "  has_raised = await self.run_ast_nodes(code_ast.body, cell_name,\n"
     ]
    }
   ],
   "source": [
    "# importando datasets:\n",
    "df_canalDesbloqueio = pd.read_csv(\"C:/Users/Matheus/PowerBI/CaseFortbrasil/data/T_CANAL_DESBLOQUEIO.csv\", sep =';')\n",
    "df_cartao = pd.read_csv(\"C:/Users/Matheus/PowerBI/CaseFortbrasil/data/T_CARTAO.csv\", sep =';')\n",
    "df_compra = pd.read_csv(\"C:/Users/Matheus/PowerBI/CaseFortbrasil/data/T_COMPRA.csv\", sep = ';')\n",
    "df_modais = pd.read_excel(\"C:/Users/Matheus/PowerBI/CaseFortbrasil/data/T_MODAIS.xlsx\")\n",
    "df_desbloqueio = pd.read_excel(\"C:/Users/Matheus/PowerBI/CaseFortbrasil/data/T_DESBLOQUEIO.xlsx\")"
   ]
  },
  {
   "cell_type": "code",
   "execution_count": 21,
   "id": "7e88130a",
   "metadata": {},
   "outputs": [
    {
     "data": {
      "text/plain": [
       "606773"
      ]
     },
     "execution_count": 21,
     "metadata": {},
     "output_type": "execute_result"
    }
   ],
   "source": [
    "# Verificação dos dados:\n",
    "\n",
    "df_canalDesbloqueio['DS_MENSAGEM'].isnull().sum()"
   ]
  },
  {
   "cell_type": "code",
   "execution_count": 14,
   "id": "f5c6b474",
   "metadata": {},
   "outputs": [],
   "source": []
  },
  {
   "cell_type": "code",
   "execution_count": null,
   "id": "8ed8cad0",
   "metadata": {},
   "outputs": [],
   "source": []
  }
 ],
 "metadata": {
  "kernelspec": {
   "display_name": "Python 3",
   "language": "python",
   "name": "python3"
  },
  "language_info": {
   "codemirror_mode": {
    "name": "ipython",
    "version": 3
   },
   "file_extension": ".py",
   "mimetype": "text/x-python",
   "name": "python",
   "nbconvert_exporter": "python",
   "pygments_lexer": "ipython3",
   "version": "3.8.8"
  }
 },
 "nbformat": 4,
 "nbformat_minor": 5
}
