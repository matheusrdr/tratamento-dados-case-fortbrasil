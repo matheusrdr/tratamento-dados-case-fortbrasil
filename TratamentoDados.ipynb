{
 "cells": [
  {
   "cell_type": "code",
   "execution_count": 1,
   "id": "e21b4bed",
   "metadata": {},
   "outputs": [],
   "source": [
    "# Importando bibliotecas:\n",
    "import pandas as pd\n",
    "from datetime import datetime"
   ]
  },
  {
   "cell_type": "code",
   "execution_count": 2,
   "id": "7cb65568",
   "metadata": {},
   "outputs": [
    {
     "name": "stderr",
     "output_type": "stream",
     "text": [
      "C:\\Users\\Matheus\\anaconda3\\lib\\site-packages\\IPython\\core\\interactiveshell.py:3165: DtypeWarning: Columns (4) have mixed types.Specify dtype option on import or set low_memory=False.\n",
      "  has_raised = await self.run_ast_nodes(code_ast.body, cell_name,\n"
     ]
    }
   ],
   "source": [
    "# Importando datasets:\n",
    "df_canalDesbloqueio = pd.read_csv(\"C:/Users/Matheus/PowerBI/data/T_CANAL_DESBLOQUEIO.csv\", sep =';')\n",
    "df_cartao = pd.read_csv(\"C:/Users/Matheus/PowerBI/data/T_CARTAO.csv\", sep =';')\n",
    "df_compra = pd.read_csv(\"C:/Users/Matheus/PowerBI/data/T_COMPRA.csv\", sep = ';')"
   ]
  },
  {
   "cell_type": "code",
   "execution_count": 3,
   "id": "c426889a",
   "metadata": {},
   "outputs": [],
   "source": [
    "df_modais = pd.read_excel(\"C:/Users/Matheus/PowerBI/data/T_MODAIS.xlsx\")\n",
    "df_desbloqueio = pd.read_excel(\"C:/Users/Matheus/PowerBI/data/T_DESBLOQUEIO.xlsx\")"
   ]
  },
  {
   "cell_type": "code",
   "execution_count": 4,
   "id": "f5c6b474",
   "metadata": {},
   "outputs": [],
   "source": [
    "# Convertendo colunas de data para datetime:\n",
    "df_cartao['DT_GERACAO_EMBOSSING'] = pd.to_datetime(df_cartao['DT_GERACAO_EMBOSSING'])\n",
    "df_cartao['DT_VALIDADE'] = pd.to_datetime(df_cartao['DT_VALIDADE'])\n",
    "df_compra['DT_COMPRA'] = pd.to_datetime(df_compra['DT_COMPRA'])\n",
    "df_canalDesbloqueio['DT_DESBLOQUEIO'] = pd.to_datetime(df_canalDesbloqueio['DT_DESBLOQUEIO'])"
   ]
  },
  {
   "cell_type": "code",
   "execution_count": 5,
   "id": "5c4c0b2a",
   "metadata": {},
   "outputs": [],
   "source": [
    "# Formatando colunas de data dos dataframes para 'dd/mm/aa':\n",
    "df_cartao['DT_VALIDADE'] = df_cartao['DT_VALIDADE'].apply(lambda x: datetime.strftime(x,\"%d/%m/%Y\"))\n",
    "df_cartao['DT_GERACAO_EMBOSSING'] = df_cartao['DT_GERACAO_EMBOSSING'].apply(lambda x: datetime.strftime(x,\"%d/%m/%Y\"))\n",
    "df_compra['DT_COMPRA'] = df_compra['DT_COMPRA'].apply(lambda x: datetime.strftime(x,\"%d/%m/%Y\"))\n",
    "df_canalDesbloqueio['DT_DESBLOQUEIO'] = df_canalDesbloqueio['DT_DESBLOQUEIO'].apply(lambda x: datetime.strftime(x,\"%d/%m/%Y\"))\n",
    "df_desbloqueio['DT_DESBLOQUEIO'] = df_desbloqueio['DT_DESBLOQUEIO'].apply(lambda x: datetime.strftime(x,\"%d/%m/%Y\"))\n",
    "df_modais['DATA_ENVIO'] = df_modais['DATA_ENVIO'].apply(lambda x: datetime.strftime(x,\"%d/%m/%Y\"))"
   ]
  },
  {
   "cell_type": "code",
   "execution_count": 12,
   "id": "6d5eab77",
   "metadata": {},
   "outputs": [],
   "source": [
    "# Ajustando T_MODAIS para excluir linhas duplicadas:\n",
    "df_modais = df_modais.sort_values(by=['ID_CONTA','DATA_ENVIO'], ascending=False).reset_index(drop=True).drop_duplicates()"
   ]
  },
  {
   "cell_type": "code",
   "execution_count": 16,
   "id": "3e43acba",
   "metadata": {},
   "outputs": [],
   "source": [
    "# Ajustando T_DESBLOQUEIO para considerar apenas o primeiro desbloqueio de cada ID_CARTÃO:\n",
    "df_desbloqueio = df_desbloqueio.sort_values(by=['ID_CARTAO','DT_DESBLOQUEIO'], ascending=False).reset_index(drop=True).drop_duplicates()"
   ]
  },
  {
   "cell_type": "code",
   "execution_count": 20,
   "id": "c852b67c",
   "metadata": {},
   "outputs": [],
   "source": [
    "# Ajustando T_CARTAO para considerar apenas cartões válidos:\n",
    "\n",
    "# Function para calcular diferencas entre as datas:\n",
    "def dif_data(d1, d2):\n",
    "    d1 = datetime.strptime(d1, \"%d/%m/%Y\")\n",
    "    d2 = datetime.strptime(d2, \"%d/%m/%Y\")\n",
    "    return (d2 - d1).days\n",
    "\n",
    "# Criando colunas para saber se cartão é valido e quantidade de dias de validade:\n",
    "df_cartao['VALIDO'] = df_cartao['DS_CARTAO'].apply(lambda x: x.startswith(\"9099\"))\n",
    "df_cartao['VALIDADE'] = df_cartao['DT_VALIDADE'].apply(lambda x: dif_data('16/09/2021', x))\n",
    "\n",
    "# Criando novo df apenas com cartões válidos:\n",
    "df_cartao = df_cartao.loc[(df_cartao['VALIDO'] == False) & (df_cartao['VALIDADE'] > 30)]"
   ]
  },
  {
   "cell_type": "code",
   "execution_count": null,
   "id": "8af6544e",
   "metadata": {},
   "outputs": [],
   "source": [
    "# Preenchendo informação faltante no campo mensagem:\n",
    "df_canalDesbloqueio['DS_MENSAGEM'] = df_canalDesbloqueio['DS_MENSAGEM'].fillna(\"Central de Atendimento\")"
   ]
  },
  {
   "cell_type": "code",
   "execution_count": 27,
   "id": "489adaba",
   "metadata": {},
   "outputs": [],
   "source": [
    "# Exportando arquivos tratados:\n",
    "df_cartao.to_csv('C:/Users/Matheus/PowerBI/data/T_CARTAO_TRATADO.csv', sep=',', index=False)\n",
    "df_canalDesbloqueio.to_csv('C:/Users/Matheus/PowerBI/data/T_CANAL_DESBLOQUEIO_TRATADO.csv', sep=',', index=False)\n",
    "df_compra.to_csv('C:/Users/Matheus/PowerBI/data/T_COMPRA_TRATADO.csv', sep=',', index=False)\n",
    "df_modais.to_csv('C:/Users/Matheus/PowerBI/data/T_MODAIS_TRATADO.csv', sep=',', index=False)\n",
    "df_desbloqueio.to_csv('C:/Users/Matheus/PowerBI/data/T_DESBLOQUEIO_TRATADO.csv', sep=',', index=False)"
   ]
  },
  {
   "cell_type": "code",
   "execution_count": null,
   "id": "e53a9b56",
   "metadata": {},
   "outputs": [],
   "source": []
  }
 ],
 "metadata": {
  "kernelspec": {
   "display_name": "Python 3",
   "language": "python",
   "name": "python3"
  },
  "language_info": {
   "codemirror_mode": {
    "name": "ipython",
    "version": 3
   },
   "file_extension": ".py",
   "mimetype": "text/x-python",
   "name": "python",
   "nbconvert_exporter": "python",
   "pygments_lexer": "ipython3",
   "version": "3.8.8"
  }
 },
 "nbformat": 4,
 "nbformat_minor": 5
}
